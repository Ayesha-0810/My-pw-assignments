{
  "nbformat": 4,
  "nbformat_minor": 0,
  "metadata": {
    "colab": {
      "provenance": [],
      "include_colab_link": true
    },
    "kernelspec": {
      "name": "python3",
      "display_name": "Python 3"
    },
    "language_info": {
      "name": "python"
    }
  },
  "cells": [
    {
      "cell_type": "markdown",
      "metadata": {
        "id": "view-in-github",
        "colab_type": "text"
      },
      "source": [
        "<a href=\"https://colab.research.google.com/github/Ayesha-0810/My-pw-assignments/blob/main/Akshata's_2nd_Assignment_PW3.ipynb\" target=\"_parent\"><img src=\"https://colab.research.google.com/assets/colab-badge.svg\" alt=\"Open In Colab\"/></a>"
      ]
    },
    {
      "cell_type": "markdown",
      "source": [
        "Q-1>  Discuss string slicing and provide examples.\n",
        "\n",
        "String slicing in Python allows you to extract a substring from a string using a specified range of indices. The syntax for slicing is string[start:stop:step]:\n",
        "\n",
        "start is the index where the slice begins.\n",
        "\n",
        "stop is the index where the slice ends (but does not include).\n",
        "\n",
        "step determines the interval between indices (default is 1).\n",
        "Examples:\n",
        "\n",
        "\n",
        "\n"
      ],
      "metadata": {
        "id": "KXhNa1NHXH7J"
      }
    },
    {
      "cell_type": "code",
      "source": [
        "\n",
        "\n",
        "s = \"Hello, World!\"\n",
        "s[::-1]\n"
      ],
      "metadata": {
        "colab": {
          "base_uri": "https://localhost:8080/",
          "height": 35
        },
        "id": "HmI0_ET1Yh6G",
        "outputId": "cce89803-cdcd-45d6-8c83-f0faccf77477"
      },
      "execution_count": null,
      "outputs": [
        {
          "output_type": "execute_result",
          "data": {
            "text/plain": [
              "'!dlroW ,olleH'"
            ],
            "application/vnd.google.colaboratory.intrinsic+json": {
              "type": "string"
            }
          },
          "metadata": {},
          "execution_count": 4
        }
      ]
    },
    {
      "cell_type": "code",
      "source": [
        "S = \"Harshil\"\n",
        "S[0:4:2]"
      ],
      "metadata": {
        "colab": {
          "base_uri": "https://localhost:8080/",
          "height": 35
        },
        "id": "gKVtEA9yY0ws",
        "outputId": "06b9c652-0801-4095-f70a-f6cb5b6baebf"
      },
      "execution_count": null,
      "outputs": [
        {
          "output_type": "execute_result",
          "data": {
            "text/plain": [
              "'Hr'"
            ],
            "application/vnd.google.colaboratory.intrinsic+json": {
              "type": "string"
            }
          },
          "metadata": {},
          "execution_count": 5
        }
      ]
    },
    {
      "cell_type": "markdown",
      "source": [
        "Q-2> Explain the key features of lists in python.\n",
        "\n",
        "\n",
        "\n",
        "In Python, lists are versatile and mutable collections with these key features:\n",
        "\n",
        "1.Ordered: Lists maintain the order of elements.\n",
        "\n",
        "2.Mutable: You can modify elements, add, or remove items.\n",
        "\n",
        "3.Indexed: Elements are accessed via zero-based indices.\n",
        "\n",
        "4.Dynamic: Lists can grow or shrink in size.\n",
        "\n",
        "5.Heterogeneous: They can store elements of different data types.\n",
        "\n",
        "6.Iterable: You can loop through elements using iteration constructs."
      ],
      "metadata": {
        "id": "Ej6YNjRwZpqZ"
      }
    },
    {
      "cell_type": "markdown",
      "source": [
        "Q-3> Describe how to access, modify, and delete elements in a list with examples.\n",
        "\n",
        "1.Accessing Elements:\n",
        "\n",
        "Use indices to access elements.\n",
        "\n",
        "2.Modifying Elements:\n",
        "\n",
        "Assign a new value to a specific index.\n",
        "\n",
        "3.Deleting Elements:\n",
        "\n",
        "Use del statement or pop() method to remove elements.\n",
        "\n",
        "Examples:"
      ],
      "metadata": {
        "id": "Swhnkitnb-fv"
      }
    },
    {
      "cell_type": "code",
      "source": [],
      "metadata": {
        "id": "KWKI4h4qqC7k"
      },
      "execution_count": null,
      "outputs": []
    },
    {
      "cell_type": "code",
      "source": [
        "#2. Modifying Elements:\n",
        "my_list[1] = 99\n",
        "print(my_list)"
      ],
      "metadata": {
        "colab": {
          "base_uri": "https://localhost:8080/"
        },
        "id": "rQk8jk7SeX5q",
        "outputId": "ca68b599-d46f-4845-a659-0d9db52f7e75"
      },
      "execution_count": null,
      "outputs": [
        {
          "output_type": "stream",
          "name": "stdout",
          "text": [
            "[10, 99, 30, 40]\n"
          ]
        }
      ]
    },
    {
      "cell_type": "code",
      "source": [
        "#3. Deleting elements:\n",
        "del my_list[0]\n",
        "print(my_list)"
      ],
      "metadata": {
        "colab": {
          "base_uri": "https://localhost:8080/"
        },
        "id": "ALDMfayieocY",
        "outputId": "717974e8-a3ef-4763-a7d1-39a7c60b2085"
      },
      "execution_count": null,
      "outputs": [
        {
          "output_type": "stream",
          "name": "stdout",
          "text": [
            "[99, 30, 40]\n"
          ]
        }
      ]
    },
    {
      "cell_type": "markdown",
      "source": [
        "Q-4> Compare and contrast tuples and lists with examples.\n",
        "\n",
        "Tuples and lists in Python are both used to store collections of items, but they have some key differences:\n",
        "\n",
        "Mutability: Lists are mutable (can be changed), while tuples are immutable (cannot be changed).\n",
        "\n",
        "Syntax: Lists use square brackets [], whereas tuples use parentheses ().\n",
        "\n",
        "Usage: Lists are used when you need to modify the data, while tuples are preferred for fixed collections of data.\n",
        "\n",
        "Example of list: [1, 2, 3]\n",
        "Example of tuple: (1, 2, 3)\n"
      ],
      "metadata": {
        "id": "fvSMPakqfAop"
      }
    },
    {
      "cell_type": "markdown",
      "source": [
        "Q-5> Describe the key features of sets and provide examples of their use.\n",
        "\n",
        "Sets in Python are unordered collections with unique elements. Key features:\n",
        "\n",
        "Unordered: No specific order to elements.\n",
        "Unique elements: Duplicate values are not allowed.\n",
        "Mutable: Elements can be added or removed.\n",
        "Sets are often used for mathematical operations like union, intersection, and difference.\n",
        "Example :"
      ],
      "metadata": {
        "id": "SvVAHXp5hjwk"
      }
    },
    {
      "cell_type": "code",
      "source": [
        "my_set = {1, 2, 3}\n",
        "my_set.add(4)  # {1, 2, 3, 4}\n",
        "my_set.remove(2)  # {1, 3, 4}"
      ],
      "metadata": {
        "id": "uY5wVLTSr2FF"
      },
      "execution_count": 1,
      "outputs": []
    },
    {
      "cell_type": "markdown",
      "source": [
        "6.Discuss the use cases of tuples and sets in Python programming\n",
        "Tuples and sets have distinct use cases in Python:\n",
        "\n",
        "Tuples:\n",
        "\n",
        "Immutable data: When you need a fixed collection of items that shouldn’t change (e.g., coordinates, dates).\n",
        "Return multiple values: Useful in functions to return multiple results.\n",
        "Dictionary keys: Tuples can be used as keys in dictionaries since they are immutable.\n",
        "Sets:\n",
        "\n",
        "Unique elements: Useful when you need to store only unique items (e.g., eliminating duplicates from a list).\n",
        "Set operations: For tasks like union, intersection, and difference in mathematical or database operations.\n",
        "Membership testing: Efficiently checking if an item exists in a collection."
      ],
      "metadata": {
        "id": "Ol6M7H6kkZ7m"
      }
    },
    {
      "cell_type": "markdown",
      "source": [
        "Q-7>  Describe how to add, modify, and delete items in a dictionary with examples.\n",
        "\n",
        "1. Adding Items\n",
        "\n",
        "You can add items to a dictionary by assigning a value to a new key. If the key does not already exist in the dictionary, it will be added.\n",
        "\n",
        "2. Modifying Items\n",
        "To modify an existing item, you assign a new value to an existing key. If the key already exists, its value will be updated.\n",
        "\n",
        "3. Deleting Items\n",
        "You can delete items from a dictionary using the del statement or the pop() method.\n",
        "\n",
        "i)Using del:\n",
        "\n",
        "The del statement removes a key-value pair from the dictionary. If the key does not exist, it will raise a KeyError.\n",
        "\n",
        "ii)Using pop():\n",
        "\n",
        "The pop() method removes a specified key and returns its value. If the key does not exist and you don't provide a default value, it will raise a KeyError. You can also provide a default value to avoid errors if the key is not found.\n"
      ],
      "metadata": {
        "id": "JR4F-RTLlTC0"
      }
    },
    {
      "cell_type": "code",
      "source": [
        "#Examples.\n",
        "#1.Adding Items\n",
        "person = {\"name\": \"Akshu\", \"age\": 24}\n",
        "person[\"occupation\"] = \"DS Engineer\"\n",
        "print(person)\n"
      ],
      "metadata": {
        "colab": {
          "base_uri": "https://localhost:8080/"
        },
        "id": "ZsbUr0MPmAqU",
        "outputId": "5fbf2168-b70c-4433-f241-663dbde76755"
      },
      "execution_count": 2,
      "outputs": [
        {
          "output_type": "stream",
          "name": "stdout",
          "text": [
            "{'name': 'Akshu', 'age': 24, 'occupation': 'DS Engineer'}\n"
          ]
        }
      ]
    },
    {
      "cell_type": "code",
      "source": [
        "#2.Modifying Items.\n",
        "person = {\"name\": \"Akshata\", \"age\": 24, \"occupation\": \"Engineer\"}\n",
        "person[\"age\"] = 31\n",
        "person[\"occupation\"] = \"Junior Engineer\"\n",
        "print(person)\n"
      ],
      "metadata": {
        "colab": {
          "base_uri": "https://localhost:8080/"
        },
        "id": "gCTvkEeImFZ_",
        "outputId": "016b9438-1330-41ee-fbde-3e5148ef55c8"
      },
      "execution_count": null,
      "outputs": [
        {
          "output_type": "stream",
          "name": "stdout",
          "text": [
            "{'name': 'Alice', 'age': 31, 'occupation': 'Senior Engineer'}\n"
          ]
        }
      ]
    },
    {
      "cell_type": "code",
      "source": [
        "#3.Deleting items.\n",
        "person = {\"name\": \"Akshu\", \"age\": 24, \"occupation\": \"Engineer\"}\n",
        "del person[\"age\"]\n",
        "print(person)"
      ],
      "metadata": {
        "colab": {
          "base_uri": "https://localhost:8080/"
        },
        "id": "hLvTFNjmmf4D",
        "outputId": "52fe71f4-8c63-4489-c18d-5cf43e24fb84"
      },
      "execution_count": 3,
      "outputs": [
        {
          "output_type": "stream",
          "name": "stdout",
          "text": [
            "{'name': 'Akshu', 'occupation': 'Engineer'}\n"
          ]
        }
      ]
    },
    {
      "cell_type": "markdown",
      "source": [
        "Q-8> Discuss the importance of dictionary keys being immutable and provide examples.\n",
        "\n",
        "In Python, dictionary keys must be immutable (e.g., strings, numbers, tuples) to ensure they remain hashable and consistent, allowing efficient lookups. If keys could change, it would break the integrity of the dictionary’s internal structure.\n",
        "\n",
        "Example:\n",
        "A string key like \"name\" or a tuple (1, 2) works because their values cannot change. Using a list [1, 2] as a key would fail since lists are mutable.\n",
        "\n",
        "Immutable keys ensure dictionaries perform reliably and quickly for storing and retrieving data."
      ],
      "metadata": {
        "id": "H0ACUheimuv3"
      }
    },
    {
      "cell_type": "code",
      "source": [
        "\n",
        "person = {\"name\": \"Akshata\", \"age\": 30}\n",
        "print(person[\"name\"])\n"
      ],
      "metadata": {
        "id": "lPaRK0RInPl2",
        "colab": {
          "base_uri": "https://localhost:8080/"
        },
        "outputId": "35d6b0a8-d8b8-4583-913f-112f02e14d4c"
      },
      "execution_count": 6,
      "outputs": [
        {
          "output_type": "stream",
          "name": "stdout",
          "text": [
            "Akshata\n",
            "30\n"
          ]
        }
      ]
    },
    {
      "cell_type": "code",
      "source": [],
      "metadata": {
        "id": "eox6hZNgnrVR"
      },
      "execution_count": null,
      "outputs": []
    }
  ]
}